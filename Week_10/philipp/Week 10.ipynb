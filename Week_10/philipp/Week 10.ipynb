{
 "metadata": {
  "name": "Week 10"
 },
 "nbformat": 3,
 "nbformat_minor": 0,
 "worksheets": [
  {
   "cells": [
    {
     "cell_type": "markdown",
     "metadata": {},
     "source": "Imports"
    },
    {
     "cell_type": "code",
     "collapsed": false,
     "input": "from sympy import *\nfrom __future__ import print_function\nfrom IPython.display import display\nfrom sympy.physics.mechanics import *\ninit_vprinting()",
     "language": "python",
     "metadata": {},
     "outputs": [],
     "prompt_number": 1
    },
    {
     "cell_type": "markdown",
     "metadata": {},
     "source": "Die Basisgleichungen f\u00fcr die Bewegung des Weihnachtsmannes"
    },
    {
     "cell_type": "code",
     "collapsed": false,
     "input": "t, g, v0, s0 = symbols('t, g, v_0, s_0')\ny = dynamicsymbols('y')\nyd = dynamicsymbols('y', 1)\ny2d = dynamicsymbols('y', 2)\ndisplay(Eq(y, -g))\ndisplay(Eq(yd, -g*t + v0))\ndisplay(Eq(y2d, -(g*t**2)/2 + v0*t + s0))",
     "language": "python",
     "metadata": {},
     "outputs": [
      {
       "latex": "$$y = - g$$",
       "output_type": "display_data",
       "png": "[encoded data removed]",
       "text": "y = -g"
      },
      {
       "latex": "$$\\dot{y} = - g t + v_{0}$$",
       "output_type": "display_data",
       "png": "[encoded data removed]",
       "text": "y\u0307 = -g\u22c5t + v\u2080"
      },
      {
       "latex": "$$\\ddot{y} = - \\frac{g t^{2}}{2} + s_{0} + t v_{0}$$",
       "output_type": "display_data",
       "png": "[encoded data removed]",
       "text": "          2            \n       g\u22c5t             \ny\u0308 = - \u2500\u2500\u2500\u2500 + s\u2080 + t\u22c5v\u2080\n        2              "
      }
     ],
     "prompt_number": 2
    },
    {
     "cell_type": "markdown",
     "metadata": {},
     "source": "Folgende Werte sind durch die Aufgabe gegeben und k\u00f6nnen daher als Konstanten definiert werden."
    },
    {
     "cell_type": "code",
     "collapsed": false,
     "input": "# Konstanten\ns0 = 10\ng = 9.81\nt0 = sqrt(2*s0/g)\nv0 = sqrt(2*g*s0)\ndt0 = sqrt(8*s0/g)",
     "language": "python",
     "metadata": {},
     "outputs": [],
     "prompt_number": 3
    },
    {
     "cell_type": "markdown",
     "metadata": {},
     "source": "Die Anfangsgeschwindigkeit jeder Teilkurve `n` ist gegeben als das 0.9-fache der Endgeschwindigkeit der Kurve `n-1`.\nDaraus folgt die Reihe:"
    },
    {
     "cell_type": "code",
     "collapsed": false,
     "input": "def vn(n):\n    if(not isinstance(n, int) or n < 0):\n        return 0;\n    return v0 * 0.9**(n)",
     "language": "python",
     "metadata": {},
     "outputs": [],
     "prompt_number": 4
    },
    {
     "cell_type": "markdown",
     "metadata": {},
     "source": "Die aktuelle H\u00f6he `y(t)` kann als Parabel beschrieben werden. Bis auf die Anfangsgeschwindigkeit `v(n)` und einem anderen Zeitintervall `t(n-1)` und `t(n)`."
    },
    {
     "cell_type": "code",
     "collapsed": false,
     "input": "def yn(n, t0, t):\n    return vn(n)*(t - t0) - 0.5*g*(t - t0)**2",
     "language": "python",
     "metadata": {},
     "outputs": [],
     "prompt_number": 5
    },
    {
     "cell_type": "markdown",
     "metadata": {},
     "source": "Die Zeitintervalle, in denen der Weihnachtsmann in der Luft sind, werden durch die folgende Reihe beschrieben:"
    },
    {
     "cell_type": "code",
     "collapsed": false,
     "input": "def dtn(n):\n    return sqrt(8*s0/g) * 0.9**n",
     "language": "python",
     "metadata": {},
     "outputs": [],
     "prompt_number": 6
    },
    {
     "cell_type": "markdown",
     "metadata": {},
     "source": "\u00dcber Kummulation der Zeitintervalle kann eine Reihe f\u00fcr die Auftrittszeiten `t(n)` aufstellen."
    },
    {
     "cell_type": "code",
     "collapsed": false,
     "input": "def tn(n):\n    if n == 0:\n        return -dtn(0) * 0.5\n    elif n == 1:\n        return dtn(0) * 0.5\n    else:\n        sum_ = dtn(0) * 0.5\n        for i in range(1, n):\n            sum_ = sum_ + dtn(i)\n        return sum_",
     "language": "python",
     "metadata": {},
     "outputs": [],
     "prompt_number": 7
    },
    {
     "cell_type": "markdown",
     "metadata": {},
     "source": "Die Anfangsgeschwindigkeiten, Zeitintervalle und Auftrittszeiten f\u00fcr die ersten 30 Spr\u00fcnge sind gegeben durch:"
    },
    {
     "cell_type": "code",
     "collapsed": false,
     "input": "arr_v = [vn(i) for i in range(0, 30)]\narr_dt = [dtn(i) for i in range(0, 30)]\narr_t = [tn(i) for i in range(0, 30)]",
     "language": "python",
     "metadata": {},
     "outputs": [],
     "prompt_number": 8
    },
    {
     "cell_type": "markdown",
     "metadata": {},
     "source": "F\u00fcr die ersten 29 Spr\u00fcnge kann eine Funktionenschar erstellt und anschlie\u00dfend geplottet werden."
    },
    {
     "cell_type": "code",
     "collapsed": false,
     "input": "colors = ['r', 'g', 'b', 'y', 'm', 'k', 'c']\nt = list()\ny = list()\n\nt.append(numpy.linspace(0, arr_t[1], 50))\ny.append(yn(0, arr_t[0], t[0]))\nplt.plot(t[0], y[0], colors[0 % len(colors)])\nfor i in range(1, 29):\n    t.append(numpy.linspace(arr_t[i], arr_t[i+1], 100))\n    y.append(yn(i, arr_t[i], t[i]))\n    plt.plot(t[i], y[i], colors[i % len(colors)])\n    \nplt.show()",
     "language": "python",
     "metadata": {},
     "outputs": [
      {
       "output_type": "display_data",
       "png": "[encoded data removed]"
      }
     ],
     "prompt_number": 11
    },
    {
     "cell_type": "code",
     "collapsed": false,
     "input": "",
     "language": "python",
     "metadata": {},
     "outputs": []
    }
   ],
   "metadata": {}
  }
 ]
}