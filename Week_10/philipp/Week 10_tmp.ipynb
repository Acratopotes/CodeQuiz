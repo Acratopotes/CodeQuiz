{
 "metadata": {
  "name": "Week 10"
 },
 "nbformat": 3,
 "nbformat_minor": 0,
 "worksheets": [
  {
   "cells": [
    {
     "cell_type": "code",
     "collapsed": false,
     "input": "from sympy import *\nfrom __future__ import print_function\nfrom IPython.display import display\nfrom sympy.physics.mechanics import *\ninit_vprinting()\n",
     "language": "python",
     "metadata": {},
     "outputs": [],
     "prompt_number": 2
    },
    {
     "cell_type": "code",
     "collapsed": false,
     "input": "print(\"Folgende Gleichungen gelten erstmal nur f\u00fcr:\", end='')\n_null, _eins, _zwei = symbols('0 1 2', Integer=True)\nt, t1 = symbols('t, t1')\n(_null <= t) <= t1",
     "language": "python",
     "metadata": {},
     "outputs": [
      {
       "output_type": "stream",
       "stream": "stdout",
       "text": "Folgende Gleichungen gelten erstmal nur f\u00fcr:"
      },
      {
       "latex": "$$0 \\leq t \\leq t_{1}$$",
       "output_type": "pyout",
       "png": "[encoded data removed]",
       "prompt_number": 3,
       "text": "0 \u2264 t \u2264 t\u2081"
      }
     ],
     "prompt_number": 3
    },
    {
     "cell_type": "raw",
     "metadata": {},
     "source": ""
    },
    {
     "cell_type": "code",
     "collapsed": false,
     "input": "g, v0, s0 = symbols('g, v_0, s_0')\ny = dynamicsymbols('y')\nyd = dynamicsymbols('y', 1)\ny2d = dynamicsymbols('y', 2)\ndisplay(Eq(y, -g))\ndisplay(Eq(yd, -g*t + v0))\ndisplay(Eq(y2d, -(g*t**2)/2 + v0*t + s0))",
     "language": "python",
     "metadata": {},
     "outputs": [
      {
       "latex": "$$y = - g$$",
       "output_type": "display_data",
       "png": "[encoded data removed]",
       "text": "y = -g"
      },
      {
       "latex": "$$\\dot{y} = - g t + v_{0}$$",
       "output_type": "display_data",
       "png": "[encoded data removed]",
       "text": "y\u0307 = -g\u22c5t + v\u2080"
      },
      {
       "latex": "$$\\ddot{y} = - \\frac{g t^{2}}{2} + s_{0} + t v_{0}$$",
       "output_type": "display_data",
       "png": "[encoded data removed]",
       "text": "          2            \n       g\u22c5t             \ny\u0308 = - \u2500\u2500\u2500\u2500 + s\u2080 + t\u22c5v\u2080\n        2              "
      }
     ],
     "prompt_number": 19
    },
    {
     "cell_type": "code",
     "collapsed": false,
     "input": "Y = MatrixSymbol('Y', 3, 1)\nYb = BlockMatrix([[y], [yd], [y2d]])\nTb = Matrix([[t**2/2], [t], [1]])\nCb = Matrix([[-g, v0, s0], [0, -g, v0], [0, 0, -g]])\ndisplay(Eq(Eq(Y, Yb), MatMul(Cb,Tb)))",
     "language": "python",
     "metadata": {},
     "outputs": [
      {
       "latex": "$$Y = \\left[\\begin{matrix}y\\\\\\dot{y}\\\\\\ddot{y}\\end{matrix}\\right] = \\left[\\begin{matrix}- g & v_{0} & s_{0}\\\\0 & - g & v_{0}\\\\0 & 0 & - g\\end{matrix}\\right] \\left[\\begin{matrix}\\frac{t^{2}}{2}\\\\t\\\\1\\end{matrix}\\right]$$",
       "output_type": "display_data",
       "text": "                        \u23a1 2\u23a4\n                        \u23a2t \u23a5\n    \u23a1y \u23a4   \u23a1-g  v\u2080  s\u2080\u23a4 \u23a2\u2500\u2500\u23a5\n    \u23a2  \u23a5   \u23a2          \u23a5 \u23a22 \u23a5\nY = \u23a2y\u0307\u23a5 = \u23a20   -g  v\u2080\u23a5\u22c5\u23a2  \u23a5\n    \u23a2  \u23a5   \u23a2          \u23a5 \u23a2t \u23a5\n    \u23a3y\u0308\u23a6   \u23a30   0   -g\u23a6 \u23a2  \u23a5\n                        \u23a31 \u23a6"
      }
     ],
     "prompt_number": 34
    },
    {
     "cell_type": "code",
     "collapsed": false,
     "input": "",
     "language": "python",
     "metadata": {},
     "outputs": [],
     "prompt_number": 34
    },
    {
     "cell_type": "code",
     "collapsed": false,
     "input": "",
     "language": "python",
     "metadata": {},
     "outputs": [],
     "prompt_number": 34
    },
    {
     "cell_type": "code",
     "collapsed": false,
     "input": "",
     "language": "python",
     "metadata": {},
     "outputs": [],
     "prompt_number": 34
    },
    {
     "cell_type": "code",
     "collapsed": false,
     "input": "",
     "language": "python",
     "metadata": {},
     "outputs": [],
     "prompt_number": 37
    },
    {
     "cell_type": "code",
     "collapsed": false,
     "input": "",
     "language": "python",
     "metadata": {},
     "outputs": [],
     "prompt_number": 37
    },
    {
     "cell_type": "code",
     "collapsed": false,
     "input": "",
     "language": "python",
     "metadata": {},
     "outputs": [],
     "prompt_number": 37
    },
    {
     "cell_type": "code",
     "collapsed": false,
     "input": "",
     "language": "python",
     "metadata": {},
     "outputs": [],
     "prompt_number": 37
    },
    {
     "cell_type": "code",
     "collapsed": false,
     "input": "",
     "language": "python",
     "metadata": {},
     "outputs": [],
     "prompt_number": 37
    },
    {
     "cell_type": "code",
     "collapsed": false,
     "input": "",
     "language": "python",
     "metadata": {},
     "outputs": []
    }
   ],
   "metadata": {}
  }
 ]
}