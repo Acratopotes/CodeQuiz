{
 "cells": [
  {
   "cell_type": "code",
   "execution_count": 31,
   "metadata": {},
   "outputs": [],
   "source": [
    "open System"
   ]
  },
  {
   "cell_type": "code",
   "execution_count": 43,
   "metadata": {},
   "outputs": [],
   "source": [
    "///**Description**\n",
    "/// Definition einer \n",
    "///\n",
    "type Function<'a> =\n",
    "    {\n",
    "        Name: string;\n",
    "        Evaluate: ('a->'a);\n",
    "    }\n",
    "\n",
    "///**Description**\n",
    "/// Definition der einzelnen Teile welche einen Ausdruck ausmachen können.\n",
    "///\n",
    "type Expr =  \n",
    "    | Con of int\n",
    "    | Var of string\n",
    "    | Add of Expr * Expr\n",
    "    | Sub of Expr * Expr\n",
    "    | Mult of Expr * Expr\n",
    "    | Div of Expr * Expr\n",
    "    | Power of Expr * Expr\n",
    "    | Neg of Expr\n",
    "    | Func of Function<double> * Expr\n",
    "    \n",
    "///**Description**\n",
    "/// Überladung der Operatoren um direkt Expression-Instanzen zu Erzeugen.\n",
    "///\n",
    "type Expr with\n",
    "    static member (+) (x, y) = Add(x, y)\n",
    "    static member (+) (x, y) = Add(x, Con y)\n",
    "    static member (+) (x, y) = Add(Con x, y)\n",
    "    static member (-) (x, y) = Sub(x, y)\n",
    "    static member (-) (x, y) = Sub(x, Con y)\n",
    "    static member (-) (x, y) = Sub(Con x, y)\n",
    "    static member (*) (x, y) = Mult(x, y)\n",
    "    static member (*) (x, y) = Mult(x, Con y)\n",
    "    static member (*) (x, y) = Mult(Con x, y)\n",
    "    static member (/) (x, y) = Div(x, y)\n",
    "    static member (/) (x, y) = Div(x, Con y)\n",
    "    static member (/) (x, y) = Div(Con x, y)\n",
    "    static member Pow (x, y) = Power(x, y)\n",
    "    static member Pow (x, y) = Power(x, Con y)\n",
    "    static member Pow (x, y) = Power(Con x, y)\n",
    "    static member (~-) x     = Neg x\n",
    "    static member (~+) x     = x    "
   ]
  },
  {
   "cell_type": "code",
   "execution_count": 58,
   "metadata": {},
   "outputs": [],
   "source": [
    "///**Description**\n",
    "/// Ableiten von Funktionen.\n",
    "/// (aus organisatorischen Gründen ausgelagert)\n",
    "///\n",
    "let deriveFunc (f: Function<double>) (argument: Expr) : Expr =\n",
    "    match f.Name with\n",
    "    | \"sin\" ->\n",
    "        (Func ({Name=\"cos\"; Evaluate=Math.Cos}, argument))\n",
    "    | _ ->\n",
    "        failwith <| sprintf \"Unknown function: %s\" f.Name\n",
    "\n",
    "\n",
    "let rec derive var expr =  \n",
    "    let d = derive var\n",
    "    match expr with\n",
    "    | Var var -> Con 1                             // Identity Rule\n",
    "    | Con x -> Con 0                               // Constant Rule\n",
    "    | Func (f, argument) -> \n",
    "        Mult (\n",
    "                (d argument),\n",
    "                (deriveFunc f argument)\n",
    "             )\n",
    "    | Mult (Con x, y) | Mult (y, Con x) -> Con x   // Constant Factor Rule\n",
    "    | Add (x, y) -> d x + d y                      // Sum Rule\n",
    "    | Sub (x, y) -> d x - d y                      // Difference Rule\n",
    "    | Mult (x, y) -> d x * y + x * d y             // Product Rule\n",
    "    | Div (x, y) -> (d x * y - x * d y) / y ** 2   // Quotient Rule\n",
    "    | Power (var, Con x) -> x * var ** (x - 1)     // Elementary Power Rule\n",
    "    | rest -> failwith <| sprintf \"failed to match: '%A'\" rest"
   ]
  },
  {
   "cell_type": "code",
   "execution_count": 59,
   "metadata": {},
   "outputs": [],
   "source": [
    "let x = Var \"x\"\n",
    "let y = Var \"y\"\n",
    "let z = Var \"z\""
   ]
  },
  {
   "cell_type": "code",
   "execution_count": 60,
   "metadata": {},
   "outputs": [],
   "source": [
    "let rec print expr =  \n",
    "     match expr with\n",
    "     | Add (x, y) -> sprintf \"(%s + %s)\" (print x) (print y)\n",
    "     | Sub (x, y) -> sprintf \"(%s - %s)\" (print x) (print y)\n",
    "     | Mult (x, y) -> sprintf \"(%s * %s)\" (print x) (print y)\n",
    "     | Div (x, y) -> sprintf \"(%s / %s)\" (print x) (print y)\n",
    "     | Power (x, y) -> sprintf \"(%s ** %s)\" (print x) (print y)\n",
    "     | Func (x, y) -> sprintf \"%s(%s)\" (x.Name) (print y)\n",
    "     | Neg x -> sprintf \"-(%s)\" (print x)\n",
    "     | Var x -> x\n",
    "     | Con x -> string x"
   ]
  },
  {
   "cell_type": "code",
   "execution_count": 63,
   "metadata": {},
   "outputs": [
    {
     "data": {
      "text/plain": [
       "Mult\n",
       "  (Power (Var \"x\",Con 2),Power (Func ({Name = \"sin\";\n",
       "                                       Evaluate = <fun:it@1-4>;},Var \"x\"),Con 2))"
      ]
     },
     "execution_count": 63,
     "metadata": {},
     "output_type": "execute_result"
    }
   ],
   "source": [
    "(x ** 2 * (Func ({Name=\"sin\"; Evaluate=Math.Sin}, x))**2)"
   ]
  },
  {
   "cell_type": "code",
   "execution_count": 64,
   "metadata": {},
   "outputs": [
    {
     "data": {
      "text/plain": [
       "\"(((2 * (x ** 1)) * sin(x)) + ((x ** 2) * (1 * cos(x))))\""
      ]
     },
     "execution_count": 64,
     "metadata": {},
     "output_type": "execute_result"
    }
   ],
   "source": [
    "derive x (x ** 2 * (Func ({Name=\"sin\"; Evaluate=Math.Sin}, x))) |> print"
   ]
  },
  {
   "cell_type": "code",
   "execution_count": null,
   "metadata": {},
   "outputs": [],
   "source": []
  }
 ],
 "metadata": {
  "kernelspec": {
   "display_name": "F#",
   "language": "fsharp",
   "name": "ifsharp"
  },
  "language": "fsharp",
  "language_info": {
   "codemirror_mode": "",
   "file_extension": ".fs",
   "mimetype": "text/x-fsharp",
   "name": "fsharp",
   "nbconvert_exporter": "",
   "pygments_lexer": "",
   "version": "4.3.1.0"
  }
 },
 "nbformat": 4,
 "nbformat_minor": 2
}
